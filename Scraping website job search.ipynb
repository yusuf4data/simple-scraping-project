{
 "cells": [
  {
   "cell_type": "markdown",
   "id": "a4d59235",
   "metadata": {},
   "source": [
    "# we will serarch in wuzzuf website for jobs such as python"
   ]
  },
  {
   "cell_type": "code",
   "execution_count": 2,
   "id": "c759526f",
   "metadata": {},
   "outputs": [],
   "source": [
    "import requests as r\n",
    "from bs4 import BeautifulSoup\n",
    "import pandas as pd"
   ]
  },
  {
   "cell_type": "code",
   "execution_count": 3,
   "id": "095111b5",
   "metadata": {},
   "outputs": [
    {
     "data": {
      "text/plain": [
       "<Response [200]>"
      ]
     },
     "execution_count": 3,
     "metadata": {},
     "output_type": "execute_result"
    }
   ],
   "source": [
    "url='https://wuzzuf.net/search/jobs/?q=python&a=hpb'\n",
    "page1=r.get(url)\n",
    "page1"
   ]
  },
  {
   "cell_type": "code",
   "execution_count": 5,
   "id": "812d0580",
   "metadata": {},
   "outputs": [],
   "source": [
    "soup=BeautifulSoup(page1.content)\n"
   ]
  },
  {
   "cell_type": "markdown",
   "id": "301295de",
   "metadata": {},
   "source": [
    "# jobs titles"
   ]
  },
  {
   "cell_type": "code",
   "execution_count": 12,
   "id": "fe051183",
   "metadata": {},
   "outputs": [
    {
     "data": {
      "text/plain": [
       "['Senior Python Engineer',\n",
       " 'Python Tech Lead',\n",
       " 'Senior Software Engineer - Python',\n",
       " 'Senior Backend (Python) Engineer - Customer Domain',\n",
       " 'Experienced Python/Django Developer',\n",
       " 'Python Full Stack Developer',\n",
       " 'Python Backend Developer (Remote-First)',\n",
       " 'Python Developer',\n",
       " 'Python API Developer Ocucon Team (UK) - (Alexandria)',\n",
       " 'Python Back End Developer',\n",
       " 'Python / Django Senior Developer',\n",
       " 'Senior Python Developer',\n",
       " 'Python Developer Remote - Urgent',\n",
       " 'Technical Team Leader - Python /Django',\n",
       " 'Full Stack Developer (Vue Js, Python / Java)']"
      ]
     },
     "execution_count": 12,
     "metadata": {},
     "output_type": "execute_result"
    }
   ],
   "source": [
    "job_title=soup.find_all('h2',{'class':'css-m604qf'})\n",
    "jobs=[job.text for job in job_title]\n",
    "jobs"
   ]
  },
  {
   "cell_type": "code",
   "execution_count": 16,
   "id": "9311d701",
   "metadata": {},
   "outputs": [
    {
     "data": {
      "text/plain": [
       "['Brainology ',\n",
       " 'Eastern Enterprise ',\n",
       " 'Paymob Solutions ',\n",
       " 'Nana ',\n",
       " 'Infoblink ',\n",
       " 'Luftborn ',\n",
       " 'Estafsar ',\n",
       " 'Trufla ',\n",
       " 'Procrew ',\n",
       " 'TA telecom ',\n",
       " 'RDI ',\n",
       " 'Andela ',\n",
       " 'GetTechForce.com ',\n",
       " 'Div Systems ',\n",
       " 'SSC Egypt ']"
      ]
     },
     "execution_count": 16,
     "metadata": {},
     "output_type": "execute_result"
    }
   ],
   "source": [
    "companies_names=soup.find_all('a',{'class':'css-17s97q8'})\n",
    "company=[comp.text.replace('-','') for comp in companies_names]\n",
    "company"
   ]
  },
  {
   "cell_type": "markdown",
   "id": "b8170713",
   "metadata": {},
   "source": [
    "# location"
   ]
  },
  {
   "cell_type": "code",
   "execution_count": 14,
   "id": "d2be30b4",
   "metadata": {},
   "outputs": [
    {
     "data": {
      "text/plain": [
       "['Cairo, Egypt ',\n",
       " 'Cairo, Egypt ',\n",
       " 'Maadi, Cairo, Egypt ',\n",
       " 'Sheraton, Cairo, Egypt ',\n",
       " 'Dokki, Giza, Egypt ',\n",
       " 'Heliopolis, Cairo, Egypt ',\n",
       " 'Downtown, Cairo, Egypt ',\n",
       " 'Heliopolis, Cairo, Egypt ',\n",
       " 'Alexandria, Egypt ',\n",
       " 'Cairo, Egypt ',\n",
       " 'Dokki, Giza, Egypt ',\n",
       " 'Cairo, Egypt ',\n",
       " 'Cairo, Egypt ',\n",
       " 'Mokattam, Cairo, Egypt ',\n",
       " 'Cairo, Egypt ']"
      ]
     },
     "execution_count": 14,
     "metadata": {},
     "output_type": "execute_result"
    }
   ],
   "source": [
    "locations_names=soup.find_all('span',{'class':'css-5wys0k'})"
   ]
  },
  {
   "cell_type": "code",
   "execution_count": 17,
   "id": "ebaf82c2",
   "metadata": {},
   "outputs": [
    {
     "data": {
      "text/html": [
       "<div>\n",
       "<style scoped>\n",
       "    .dataframe tbody tr th:only-of-type {\n",
       "        vertical-align: middle;\n",
       "    }\n",
       "\n",
       "    .dataframe tbody tr th {\n",
       "        vertical-align: top;\n",
       "    }\n",
       "\n",
       "    .dataframe thead th {\n",
       "        text-align: right;\n",
       "    }\n",
       "</style>\n",
       "<table border=\"1\" class=\"dataframe\">\n",
       "  <thead>\n",
       "    <tr style=\"text-align: right;\">\n",
       "      <th></th>\n",
       "      <th>job</th>\n",
       "      <th>company</th>\n",
       "      <th>location</th>\n",
       "    </tr>\n",
       "  </thead>\n",
       "  <tbody>\n",
       "    <tr>\n",
       "      <th>0</th>\n",
       "      <td>Senior Python Engineer</td>\n",
       "      <td>Brainology</td>\n",
       "      <td>Cairo, Egypt</td>\n",
       "    </tr>\n",
       "    <tr>\n",
       "      <th>1</th>\n",
       "      <td>Python Tech Lead</td>\n",
       "      <td>Eastern Enterprise</td>\n",
       "      <td>Cairo, Egypt</td>\n",
       "    </tr>\n",
       "    <tr>\n",
       "      <th>2</th>\n",
       "      <td>Senior Software Engineer - Python</td>\n",
       "      <td>Paymob Solutions</td>\n",
       "      <td>Maadi, Cairo, Egypt</td>\n",
       "    </tr>\n",
       "    <tr>\n",
       "      <th>3</th>\n",
       "      <td>Senior Backend (Python) Engineer - Customer Do...</td>\n",
       "      <td>Nana</td>\n",
       "      <td>Sheraton, Cairo, Egypt</td>\n",
       "    </tr>\n",
       "    <tr>\n",
       "      <th>4</th>\n",
       "      <td>Experienced Python/Django Developer</td>\n",
       "      <td>Infoblink</td>\n",
       "      <td>Dokki, Giza, Egypt</td>\n",
       "    </tr>\n",
       "    <tr>\n",
       "      <th>5</th>\n",
       "      <td>Python Full Stack Developer</td>\n",
       "      <td>Luftborn</td>\n",
       "      <td>Heliopolis, Cairo, Egypt</td>\n",
       "    </tr>\n",
       "    <tr>\n",
       "      <th>6</th>\n",
       "      <td>Python Backend Developer (Remote-First)</td>\n",
       "      <td>Estafsar</td>\n",
       "      <td>Downtown, Cairo, Egypt</td>\n",
       "    </tr>\n",
       "    <tr>\n",
       "      <th>7</th>\n",
       "      <td>Python Developer</td>\n",
       "      <td>Trufla</td>\n",
       "      <td>Heliopolis, Cairo, Egypt</td>\n",
       "    </tr>\n",
       "    <tr>\n",
       "      <th>8</th>\n",
       "      <td>Python API Developer Ocucon Team (UK) - (Alexa...</td>\n",
       "      <td>Procrew</td>\n",
       "      <td>Alexandria, Egypt</td>\n",
       "    </tr>\n",
       "    <tr>\n",
       "      <th>9</th>\n",
       "      <td>Python Back End Developer</td>\n",
       "      <td>TA telecom</td>\n",
       "      <td>Cairo, Egypt</td>\n",
       "    </tr>\n",
       "    <tr>\n",
       "      <th>10</th>\n",
       "      <td>Python / Django Senior Developer</td>\n",
       "      <td>RDI</td>\n",
       "      <td>Dokki, Giza, Egypt</td>\n",
       "    </tr>\n",
       "    <tr>\n",
       "      <th>11</th>\n",
       "      <td>Senior Python Developer</td>\n",
       "      <td>Andela</td>\n",
       "      <td>Cairo, Egypt</td>\n",
       "    </tr>\n",
       "    <tr>\n",
       "      <th>12</th>\n",
       "      <td>Python Developer Remote - Urgent</td>\n",
       "      <td>GetTechForce.com</td>\n",
       "      <td>Cairo, Egypt</td>\n",
       "    </tr>\n",
       "    <tr>\n",
       "      <th>13</th>\n",
       "      <td>Technical Team Leader - Python /Django</td>\n",
       "      <td>Div Systems</td>\n",
       "      <td>Mokattam, Cairo, Egypt</td>\n",
       "    </tr>\n",
       "    <tr>\n",
       "      <th>14</th>\n",
       "      <td>Full Stack Developer (Vue Js, Python / Java)</td>\n",
       "      <td>SSC Egypt</td>\n",
       "      <td>Cairo, Egypt</td>\n",
       "    </tr>\n",
       "  </tbody>\n",
       "</table>\n",
       "</div>"
      ],
      "text/plain": [
       "                                                  job              company  \\\n",
       "0                              Senior Python Engineer          Brainology    \n",
       "1                                    Python Tech Lead  Eastern Enterprise    \n",
       "2                   Senior Software Engineer - Python    Paymob Solutions    \n",
       "3   Senior Backend (Python) Engineer - Customer Do...                Nana    \n",
       "4                 Experienced Python/Django Developer           Infoblink    \n",
       "5                         Python Full Stack Developer            Luftborn    \n",
       "6             Python Backend Developer (Remote-First)            Estafsar    \n",
       "7                                    Python Developer              Trufla    \n",
       "8   Python API Developer Ocucon Team (UK) - (Alexa...             Procrew    \n",
       "9                           Python Back End Developer          TA telecom    \n",
       "10                   Python / Django Senior Developer                 RDI    \n",
       "11                            Senior Python Developer              Andela    \n",
       "12                   Python Developer Remote - Urgent    GetTechForce.com    \n",
       "13             Technical Team Leader - Python /Django         Div Systems    \n",
       "14       Full Stack Developer (Vue Js, Python / Java)           SSC Egypt    \n",
       "\n",
       "                     location  \n",
       "0               Cairo, Egypt   \n",
       "1               Cairo, Egypt   \n",
       "2        Maadi, Cairo, Egypt   \n",
       "3     Sheraton, Cairo, Egypt   \n",
       "4         Dokki, Giza, Egypt   \n",
       "5   Heliopolis, Cairo, Egypt   \n",
       "6     Downtown, Cairo, Egypt   \n",
       "7   Heliopolis, Cairo, Egypt   \n",
       "8          Alexandria, Egypt   \n",
       "9               Cairo, Egypt   \n",
       "10        Dokki, Giza, Egypt   \n",
       "11              Cairo, Egypt   \n",
       "12              Cairo, Egypt   \n",
       "13    Mokattam, Cairo, Egypt   \n",
       "14              Cairo, Egypt   "
      ]
     },
     "execution_count": 17,
     "metadata": {},
     "output_type": "execute_result"
    }
   ],
   "source": [
    "dic={'job':jobs,'company':company,'location':locations}\n",
    "df=pd.DataFrame(dic)\n",
    "df"
   ]
  },
  {
   "cell_type": "code",
   "execution_count": 18,
   "id": "dc098030",
   "metadata": {},
   "outputs": [],
   "source": [
    "df.to_csv('Scraping_web_for_job.csv')"
   ]
  },
  {
   "cell_type": "markdown",
   "id": "31729727",
   "metadata": {},
   "source": [
    "# Scrapig data from GitHub"
   ]
  },
  {
   "cell_type": "code",
   "execution_count": 19,
   "id": "30c41603",
   "metadata": {},
   "outputs": [],
   "source": [
    "url_github='https://github.com/topics'"
   ]
  },
  {
   "cell_type": "code",
   "execution_count": 21,
   "id": "5d903de3",
   "metadata": {},
   "outputs": [],
   "source": [
    "page=r.get(url_github)"
   ]
  },
  {
   "cell_type": "code",
   "execution_count": 22,
   "id": "a4c5064e",
   "metadata": {},
   "outputs": [],
   "source": [
    "doc=BeautifulSoup(page.content)"
   ]
  },
  {
   "cell_type": "code",
   "execution_count": 23,
   "id": "2d29afa0",
   "metadata": {},
   "outputs": [
    {
     "data": {
      "text/plain": [
       "3"
      ]
     },
     "execution_count": 23,
     "metadata": {},
     "output_type": "execute_result"
    }
   ],
   "source": [
    "len(doc)"
   ]
  },
  {
   "cell_type": "markdown",
   "id": "73e7c5d1",
   "metadata": {},
   "source": [
    "## all topics titels"
   ]
  },
  {
   "cell_type": "code",
   "execution_count": 29,
   "id": "52f7de10",
   "metadata": {},
   "outputs": [
    {
     "data": {
      "text/plain": [
       "[<p class=\"f3 lh-condensed mb-0 mt-1 Link--primary\">3D</p>,\n",
       " <p class=\"f3 lh-condensed mb-0 mt-1 Link--primary\">Ajax</p>,\n",
       " <p class=\"f3 lh-condensed mb-0 mt-1 Link--primary\">Algorithm</p>]"
      ]
     },
     "execution_count": 29,
     "metadata": {},
     "output_type": "execute_result"
    }
   ],
   "source": [
    "titels=doc.find_all('p',{'class':'f3 lh-condensed mb-0 mt-1 Link--primary'})\n",
    "titels[:3]"
   ]
  },
  {
   "cell_type": "code",
   "execution_count": 39,
   "id": "930a54a6",
   "metadata": {},
   "outputs": [
    {
     "data": {
      "text/plain": [
       "['3D',\n",
       " 'Ajax',\n",
       " 'Algorithm',\n",
       " 'Amp',\n",
       " 'Android',\n",
       " 'Angular',\n",
       " 'Ansible',\n",
       " 'API',\n",
       " 'Arduino',\n",
       " 'ASP.NET',\n",
       " 'Atom',\n",
       " 'Awesome Lists',\n",
       " 'Amazon Web Services',\n",
       " 'Azure',\n",
       " 'Babel',\n",
       " 'Bash',\n",
       " 'Bitcoin',\n",
       " 'Bootstrap',\n",
       " 'Bot',\n",
       " 'C',\n",
       " 'Chrome',\n",
       " 'Chrome extension',\n",
       " 'Command line interface',\n",
       " 'Clojure',\n",
       " 'Code quality',\n",
       " 'Code review',\n",
       " 'Compiler',\n",
       " 'Continuous integration',\n",
       " 'COVID-19',\n",
       " 'C++']"
      ]
     },
     "execution_count": 39,
     "metadata": {},
     "output_type": "execute_result"
    }
   ],
   "source": [
    "titel_list=[ti.text for ti in titels]\n",
    "titel_list"
   ]
  },
  {
   "cell_type": "markdown",
   "id": "c065ae27",
   "metadata": {},
   "source": [
    "## titels links"
   ]
  },
  {
   "cell_type": "code",
   "execution_count": 31,
   "id": "5f83605b",
   "metadata": {},
   "outputs": [
    {
     "data": {
      "text/plain": [
       "'/topics/ajax'"
      ]
     },
     "execution_count": 31,
     "metadata": {},
     "output_type": "execute_result"
    }
   ],
   "source": [
    "titels[1].parent['href']"
   ]
  },
  {
   "cell_type": "code",
   "execution_count": 34,
   "id": "582f7a51",
   "metadata": {},
   "outputs": [],
   "source": [
    "url_base='https://github.com'"
   ]
  },
  {
   "cell_type": "code",
   "execution_count": 38,
   "id": "6c854794",
   "metadata": {},
   "outputs": [
    {
     "data": {
      "text/plain": [
       "'https://github.com/topics/ajax'"
      ]
     },
     "execution_count": 38,
     "metadata": {},
     "output_type": "execute_result"
    }
   ],
   "source": [
    "titel_url=url_base+titels[1].parent['href']\n",
    "titel_url"
   ]
  },
  {
   "cell_type": "code",
   "execution_count": 43,
   "id": "4bdc14ce",
   "metadata": {},
   "outputs": [
    {
     "data": {
      "text/plain": [
       "['https://github.com/topics/3d',\n",
       " 'https://github.com/topics/ajax',\n",
       " 'https://github.com/topics/algorithm',\n",
       " 'https://github.com/topics/amphp',\n",
       " 'https://github.com/topics/android',\n",
       " 'https://github.com/topics/angular',\n",
       " 'https://github.com/topics/ansible',\n",
       " 'https://github.com/topics/api',\n",
       " 'https://github.com/topics/arduino',\n",
       " 'https://github.com/topics/aspnet',\n",
       " 'https://github.com/topics/atom',\n",
       " 'https://github.com/topics/awesome',\n",
       " 'https://github.com/topics/aws',\n",
       " 'https://github.com/topics/azure',\n",
       " 'https://github.com/topics/babel',\n",
       " 'https://github.com/topics/bash',\n",
       " 'https://github.com/topics/bitcoin',\n",
       " 'https://github.com/topics/bootstrap',\n",
       " 'https://github.com/topics/bot',\n",
       " 'https://github.com/topics/c',\n",
       " 'https://github.com/topics/chrome',\n",
       " 'https://github.com/topics/chrome-extension',\n",
       " 'https://github.com/topics/cli',\n",
       " 'https://github.com/topics/clojure',\n",
       " 'https://github.com/topics/code-quality',\n",
       " 'https://github.com/topics/code-review',\n",
       " 'https://github.com/topics/compiler',\n",
       " 'https://github.com/topics/continuous-integration',\n",
       " 'https://github.com/topics/covid-19',\n",
       " 'https://github.com/topics/cpp']"
      ]
     },
     "execution_count": 43,
     "metadata": {},
     "output_type": "execute_result"
    }
   ],
   "source": [
    "titel_url_list=[url_base+ti.parent['href'] for ti in titels]\n",
    "titel_url_list"
   ]
  },
  {
   "cell_type": "code",
   "execution_count": 53,
   "id": "ab6f3c1c",
   "metadata": {},
   "outputs": [],
   "source": [
    "def get_titel_page(url):\n",
    "    titel_page=r.get(url)\n",
    "    page= BeautifulSoup(titel_page.content)\n",
    "    return page "
   ]
  },
  {
   "cell_type": "code",
   "execution_count": 50,
   "id": "0126de71",
   "metadata": {},
   "outputs": [],
   "source": [
    "all_pages=[]"
   ]
  },
  {
   "cell_type": "code",
   "execution_count": null,
   "id": "93104a2f",
   "metadata": {},
   "outputs": [],
   "source": []
  },
  {
   "cell_type": "code",
   "execution_count": 55,
   "id": "62c5a4c1",
   "metadata": {},
   "outputs": [],
   "source": [
    "s1=get_titel_page(titel_url_list[1])"
   ]
  },
  {
   "cell_type": "code",
   "execution_count": 60,
   "id": "c72d36a5",
   "metadata": {},
   "outputs": [],
   "source": [
    "s0=get_titel_page(titel_url_list[0])"
   ]
  },
  {
   "cell_type": "code",
   "execution_count": 74,
   "id": "d7b7d011",
   "metadata": {},
   "outputs": [
    {
     "data": {
      "text/plain": [
       "'mrdoob'"
      ]
     },
     "execution_count": 74,
     "metadata": {},
     "output_type": "execute_result"
    }
   ],
   "source": [
    "sss=s0.find('h3',{'class':'f3 color-fg-muted text-normal lh-condensed'}).a.text.strip()\n",
    "sss"
   ]
  },
  {
   "cell_type": "code",
   "execution_count": 77,
   "id": "752bc6f4",
   "metadata": {},
   "outputs": [],
   "source": [
    "w=s0.find_all('h3',{'class':'f3 color-fg-muted text-normal lh-condensed'})\n"
   ]
  },
  {
   "cell_type": "code",
   "execution_count": 81,
   "id": "18f19d70",
   "metadata": {},
   "outputs": [
    {
     "name": "stdout",
     "output_type": "stream",
     "text": [
      "mrdoob\n",
      "libgdx\n",
      "pmndrs\n",
      "BabylonJS\n",
      "aframevr\n",
      "lettier\n",
      "ssloy\n",
      "FreeCAD\n",
      "metafizzy\n",
      "CesiumGS\n",
      "timzhang642\n",
      "a1studmuffin\n",
      "isl-org\n",
      "domlysz\n",
      "blender\n",
      "spritejs\n",
      "openscad\n",
      "tensorspace-team\n",
      "jagenjo\n",
      "YadiraF\n",
      "AaronJackson\n",
      "ssloy\n",
      "google\n",
      "mosra\n",
      "gfxfundamentals\n",
      "FyroxEngine\n",
      "tengbao\n",
      "cleardusk\n",
      "jasonlong\n",
      "cnr-isti-vclab\n"
     ]
    }
   ],
   "source": [
    "for s in w:\n",
    "    print(s.a.text.strip())"
   ]
  },
  {
   "cell_type": "code",
   "execution_count": null,
   "id": "acc7943f",
   "metadata": {},
   "outputs": [],
   "source": []
  }
 ],
 "metadata": {
  "kernelspec": {
   "display_name": "Python 3",
   "language": "python",
   "name": "python3"
  },
  "language_info": {
   "codemirror_mode": {
    "name": "ipython",
    "version": 3
   },
   "file_extension": ".py",
   "mimetype": "text/x-python",
   "name": "python",
   "nbconvert_exporter": "python",
   "pygments_lexer": "ipython3",
   "version": "3.8.8"
  }
 },
 "nbformat": 4,
 "nbformat_minor": 5
}
